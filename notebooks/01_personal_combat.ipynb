{
 "cells": [
  {
   "cell_type": "markdown",
   "id": "b0058a33",
   "metadata": {},
   "source": [
    "# Personal combat\n"
   ]
  }
 ],
 "metadata": {
  "language_info": {
   "name": "python"
  }
 },
 "nbformat": 4,
 "nbformat_minor": 5
}
