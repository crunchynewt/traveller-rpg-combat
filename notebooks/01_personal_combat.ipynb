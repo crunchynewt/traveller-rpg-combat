{
 "cells": [
  {
   "cell_type": "markdown",
   "id": "b0058a33",
   "metadata": {},
   "source": [
    "# Personal combat simulation\n",
    "\n",
    "This uses **Cepheus Light** rules for personal combat and it could be easily adapted for Mongoose 2e or other systems.\n"
   ]
  }
 ],
 "metadata": {
  "language_info": {
   "name": "python"
  }
 },
 "nbformat": 4,
 "nbformat_minor": 5
}
